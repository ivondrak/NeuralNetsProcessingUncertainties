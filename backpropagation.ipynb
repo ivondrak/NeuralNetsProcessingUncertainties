{
 "cells": [
  {
   "cell_type": "markdown",
   "id": "ac18ed3dc32ba0a",
   "metadata": {
    "collapsed": false
   },
   "source": [
    "## Neural Networks Processing Uncertain Information\n",
    "### Theoretical background\n",
    "**Continuous perceptron with interval excitation state**\n",
    "\n",
    "This approach is a generalization of the previous method, with the difference that the state of neuron excitation is given by an internal potential in the form of the interval $[x, y]$, which corresponds again to its own excitation in the form of an interval defined by $[a, b]$. If we denote the set of neurons of the preceding (lower) layer as 'low', then for the minimal or maximal internal potential and for a positive value of the neuron's steepness, the following holds:\n",
    "\n",
    "$$\n",
    "x = w_0 + \\sum_{w_i > 0, i \\in \\text{low}} w_i a_i + \\sum_{w_i < 0, i \\in \\text{low}} w_i b_i,\n",
    "$$\n",
    "\n",
    "or respectively,\n",
    "\n",
    "$$\n",
    "y = w_0 + \\sum_{w_i > 0, i \\in \\text{low}} w_i b_i + \\sum_{w_i < 0, i \\in \\text{low}} w_i a_i,\n",
    "$$\n",
    "\n",
    "where $a_i, b_i$ represent the minimal and maximal state of excitation of the neurons in the previous layer.\n",
    "\n",
    "The actual excitation is then given by applying an activation function, so:\n",
    "\n",
    "$$\n",
    "a = S(x), \\quad b = S(y).\n",
    "$$\n",
    "\n",
    "The use of the backpropagation method requires differentiable functions that define the internal potential of the neuron. For this purpose, a \"continuous signum function\" of the following form is used:\n",
    "\n",
    "$$\n",
    "s(w) = \\frac{1}{1 + e^{-w}}, \\quad \\widetilde{s}(w) = \\frac{1}{1 + e^w},\n",
    "$$\n",
    "\n",
    "for which approximately holds:\n",
    "\n",
    "- $s(w) = 1$ as $w \\to +\\infty $,\n",
    "- $s(w) = 0$ as $w \\to -\\infty $,\n",
    "- $\\widetilde{s}(w) = 1$ as $w \\to -\\infty$,\n",
    "- $\\widetilde{s}(w) = 0$ as $w \\to +\\infty$.\n",
    "\n",
    "Using these functions, the relationships for the internal potential of the neuron can be rewritten in this way:\n",
    "\n",
    "$$\n",
    "x = w_0 + \\sum_{i \\in \\text{low}} s(w_i) w_i a_i + \\sum_{i \\in \\text{low}} \\widetilde{s}(w_i) w_i b_i,\n",
    "$$\n",
    "\n",
    "$$\n",
    "y = w_0 + \\sum_{i \\in \\text{low}} s(w_i) w_i b_i + \\sum_{i \\in \\text{low}} \\widetilde{s}(w_i) w_i a_i.\n",
    "$$\n",
    "\n",
    "In this way, differentiability of the both expression is ensured. It is evident that $s(w) + \\widetilde{s}(w) = 1$ for all $w$. This means that the value of $w_i$ is divided between $a_i$ and $b_i$ according to the degree of its positivity or negativity.\n",
    "\n",
    "The last thing that needs to be resolved is the effect of the steepness of the neuron. It should be noted that $\\widetilde{s}(w) = s(-w)$, and thus we can consider the steepness of the neuron $\\lambda$ as the parameter for the signum function. The new form of the signum function will then be as follows:\n",
    "\n",
    "$$\n",
    "s(w) = \\frac{1}{1 + e^{-\\lambda w}}, \\quad \\widetilde{s}(w) = \\frac{1}{1 + e^{\\lambda w}}.\n",
    "$$\n",
    "\n",
    "\n",
    "\n",
    "\n",
    "\n"
   ]
  },
  {
   "cell_type": "markdown",
   "id": "a3ab29c4",
   "metadata": {},
   "source": [
    "### Implemenation in Python"
   ]
  },
  {
   "cell_type": "markdown",
   "id": "6f11f1ea",
   "metadata": {},
   "source": [
    "**Import modules**"
   ]
  },
  {
   "cell_type": "code",
   "execution_count": 1,
   "id": "e3e0fd1c551b0884",
   "metadata": {
    "ExecuteTime": {
     "end_time": "2024-03-25T10:32:11.909027Z",
     "start_time": "2024-03-25T10:32:11.267719Z"
    },
    "collapsed": false
   },
   "outputs": [],
   "source": [
    "import numpy as np\n",
    "import pandas as pd\n",
    "from backpropagation import IntervalNeuralNet\n"
   ]
  },
  {
   "cell_type": "markdown",
   "id": "5dabdb0a8378bdbb",
   "metadata": {
    "collapsed": false
   },
   "source": [
    "**Create training set from diagnosis.xlsx**"
   ]
  },
  {
   "cell_type": "code",
   "execution_count": 2,
   "id": "a36b7f14ceba5415",
   "metadata": {
    "ExecuteTime": {
     "end_time": "2024-03-25T10:32:12.163168Z",
     "start_time": "2024-03-25T10:32:11.911262Z"
    },
    "collapsed": false
   },
   "outputs": [
    {
     "data": {
      "text/plain": [
       "[([0.0, 0.5, 0.5, 0.0, 0.0], [0.0, 0.0, 1.0]),\n",
       " ([1.0, 1.0, 1.0, 1.0, 0.0], [0.0, 1.0, 0.0]),\n",
       " ([0.5, 1.0, 0.0, 1.0, 1.0], [1.0, 0.0, 0.0]),\n",
       " ([0.0, 0.5, 0.0, 0.0, 0.0], [0.0, 0.0, 1.0]),\n",
       " ([1.0, 0.5, 1.0, 0.5, 0.0], [0.0, 1.0, 0.0]),\n",
       " ([1.0, 1.0, 0.0, 0.5, 0.5], [1.0, 0.0, 0.0])]"
      ]
     },
     "execution_count": 2,
     "metadata": {},
     "output_type": "execute_result"
    }
   ],
   "source": [
    "data = pd.read_excel('diagnosis.xlsx')\n",
    "data.head()\n",
    "training_set = []\n",
    "for index, row in data.iterrows():\n",
    "    features = [row['Fever'], row['Cough'], row['Headache'], row['Tiredness'], row['Night Sweat']]\n",
    "    result = [row['Pneumonia'], row['Flu'], row['Cold']]\n",
    "    training_set.append((features, result))\n",
    "    \n",
    "training_set"
   ]
  },
  {
   "cell_type": "markdown",
   "id": "39ac06481fdcfd80",
   "metadata": {
    "collapsed": false
   },
   "source": [
    "**Initialize and learn multilayered neural network**\n",
    "* training set is given by a list [([i11, i12 ... i1N],[o11 ... o1M]), ... ([ik1, ..., ikN],[ok1, ..., okM])]\n",
    "* topology [num_of_features, num_of_inner_neurons, num_of_inner_neurons, num_of_results]\n",
    "* learning rates [for_weights, for_biases, for_slopes]\n",
    "* number of leraning epochs\n",
    "\n",
    "In case of learning rates for biases and slopes equal 0 only weights based learning is executed"
   ]
  },
  {
   "cell_type": "code",
   "execution_count": 3,
   "id": "1af2e0b2d989c4c8",
   "metadata": {
    "ExecuteTime": {
     "end_time": "2024-03-25T10:32:12.824518Z",
     "start_time": "2024-03-25T10:32:12.164737Z"
    },
    "collapsed": false
   },
   "outputs": [
    {
     "name": "stdout",
     "output_type": "stream",
     "text": [
      "Input:  [0.0, 0.5, 0.5, 0.0, 0.0]  Output:  [0.0, 0.0, 0.99]\n",
      "Input:  [1.0, 1.0, 1.0, 1.0, 0.0]  Output:  [0.01, 0.99, 0.01]\n",
      "Input:  [0.5, 1.0, 0.0, 1.0, 1.0]  Output:  [0.99, 0.01, 0.0]\n",
      "Input:  [0.0, 0.5, 0.0, 0.0, 0.0]  Output:  [0.01, 0.0, 0.99]\n",
      "Input:  [1.0, 0.5, 1.0, 0.5, 0.0]  Output:  [0.01, 0.99, 0.01]\n",
      "Input:  [1.0, 1.0, 0.0, 0.5, 0.5]  Output:  [0.99, 0.01, 0.0]\n"
     ]
    }
   ],
   "source": [
    "bpnn = IntervalNeuralNet(training_set,[5, 5, 5, 3], [0.3, 0.3, 0.3], 1000)\n",
    "bpnn.backpropagation()\n",
    "for row in training_set:\n",
    "    net_input = row[0]\n",
    "    bpnn.feed_forward(net_input)\n",
    "    net_output = bpnn.output_activation.reshape([1,3])\n",
    "    print(\"Input: \", net_input, \" Output: \", net_output.flatten().tolist())\n",
    "\n",
    "\n"
   ]
  },
  {
   "cell_type": "markdown",
   "id": "9010db8ca231b112",
   "metadata": {
    "collapsed": false
   },
   "source": [
    "### Usage of diagnosis app\n",
    "**Specification of the patient with uncertain input data**\n",
    "| Attribute | Value |\n",
    "|-----------|-------|\n",
    "|   Fever  |  38.0 - 38.5   |\n",
    "|   Cough  |   1  |\n",
    "|   Headache  |   1  |\n",
    "|   Tiredness  |   1  |\n",
    "|   Night Sweat  |  unknown |"
   ]
  },
  {
   "cell_type": "code",
   "execution_count": 4,
   "id": "b9ec3a3f541b8869",
   "metadata": {
    "ExecuteTime": {
     "end_time": "2024-03-25T10:32:12.888489Z",
     "start_time": "2024-03-25T10:32:12.825925Z"
    },
    "collapsed": false
   },
   "outputs": [
    {
     "data": {
      "text/plain": [
       "[0.01, 0.99, 0.01]"
      ]
     },
     "execution_count": 4,
     "metadata": {},
     "output_type": "execute_result"
    }
   ],
   "source": [
    "input = [0.6, 1, 1, 1, 0]\n",
    "output = bpnn.run(input)\n",
    "output"
   ]
  },
  {
   "cell_type": "code",
   "execution_count": 5,
   "id": "fdc43214",
   "metadata": {},
   "outputs": [
    {
     "data": {
      "text/plain": [
       "[(0.5, 0.7), (1, 1), (1, 1), (1, 1), (0, 0)]"
      ]
     },
     "execution_count": 5,
     "metadata": {},
     "output_type": "execute_result"
    }
   ],
   "source": [
    "input = [(0.5, 0.7), 1, 1, 1, (0, 0)]\n",
    "output = bpnn.interval_run(input)\n",
    "output\n"
   ]
  }
 ],
 "metadata": {
  "kernelspec": {
   "display_name": "Python 3 (ipykernel)",
   "language": "python",
   "name": "python3"
  },
  "language_info": {
   "codemirror_mode": {
    "name": "ipython",
    "version": 3
   },
   "file_extension": ".py",
   "mimetype": "text/x-python",
   "name": "python",
   "nbconvert_exporter": "python",
   "pygments_lexer": "ipython3",
   "version": "3.12.3"
  }
 },
 "nbformat": 4,
 "nbformat_minor": 5
}
